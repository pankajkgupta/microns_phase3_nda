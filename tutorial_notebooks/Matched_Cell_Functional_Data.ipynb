{
 "cells": [
  {
   "cell_type": "markdown",
   "metadata": {},
   "source": [
    "# Introduction"
   ]
  },
  {
   "cell_type": "markdown",
   "metadata": {},
   "source": [
    "This notebook assumes you have activated credentials with the CAVE client. CAVE (Connectome Annotation Versioning Engine) is built and supported by a collaboration between the Seung lab at Princeton and the Allen Institute for Brain Science. It allows for programmatic access to the tables associated with Minnie and other datasets. [Github](https://github.com/seung-lab/CAVEclient) \n",
    "\n",
    "CAVE setup instructions are [here](https://github.com/AllenInstitute/MicronsBinder/blob/master/notebooks/mm3_intro/CAVEsetup.ipynb).\n",
    "\n",
    "CAVE tutorial for querying the data is [here](https://github.com/AllenInstitute/MicronsBinder/blob/master/notebooks/mm3_intro/SynapseAndAnnotationQuery.ipynb)."
   ]
  },
  {
   "cell_type": "markdown",
   "metadata": {},
   "source": [
    "## Using CAVEclient to query data"
   ]
  },
  {
   "cell_type": "code",
   "execution_count": 1,
   "metadata": {},
   "outputs": [],
   "source": [
    "from caveclient import CAVEclient"
   ]
  },
  {
   "cell_type": "markdown",
   "metadata": {},
   "source": [
    "Load the public client for accessing the datastack in CAVE. If you have not acquired an authentication token, run the code below to get a new token. You will need to link your Google account."
   ]
  },
  {
   "cell_type": "code",
   "execution_count": 2,
   "metadata": {},
   "outputs": [],
   "source": [
    "client = CAVEclient()\n",
    "client.auth.save_token(token=\"3fedb5aedd33f7ddc710953e0fe1c7cc\", overwrite=True)\n",
    "#client.auth.get_new_token()"
   ]
  },
  {
   "cell_type": "markdown",
   "metadata": {},
   "source": [
    "If you have successfully added your token or already have a valid token saved from a previous session, you should be able to initialize the client with the `minnie65_public` datastack:\n",
    "\n",
    "```python\n",
    "client = CAVEclient('minnie65_public')\n",
    "```\n",
    "\n",
    "If your previous saved token is invalidated, you will need to save your newly acquired token with the argument `overwrite=True`.\n",
    "\n",
    "```python\n",
    "client.auth.save_token(token=\"3fedb5aedd33f7ddc710953e0fe1c7cc\", overwrite=True)\n",
    "```"
   ]
  },
  {
   "cell_type": "code",
   "execution_count": 3,
   "metadata": {},
   "outputs": [],
   "source": [
    "# this is the datastack name of the public release\n",
    "# passing it will auto-configure many of the services\n",
    "client = CAVEclient('minnie65_public')"
   ]
  },
  {
   "attachments": {},
   "cell_type": "markdown",
   "metadata": {},
   "source": [
    "### Setting the version of the public release"
   ]
  },
  {
   "attachments": {},
   "cell_type": "markdown",
   "metadata": {},
   "source": [
    "With the initialized client, set the version of the public release:\n",
    "\n",
    "```python\n",
    "client.materialize.version = VERSION\n",
    "```\n",
    "\n",
    "Table names and data will change between versions. This notebook is built around version `661`. To use a later version, find the corresponding tables in the new version. "
   ]
  },
  {
   "cell_type": "code",
   "execution_count": null,
   "metadata": {},
   "outputs": [],
   "source": [
    "client.materialize.version = 661"
   ]
  },
  {
   "cell_type": "markdown",
   "metadata": {},
   "source": [
    "### View available annotation tables"
   ]
  },
  {
   "cell_type": "code",
   "execution_count": 6,
   "metadata": {},
   "outputs": [
    {
     "data": {
      "text/plain": [
       "['synapses_pni_2',\n",
       " 'baylor_gnn_cell_type_fine_model_v2',\n",
       " 'nucleus_alternative_points',\n",
       " 'connectivity_groups_v507',\n",
       " 'proofreading_status_public_release',\n",
       " 'allen_column_mtypes_v1',\n",
       " 'allen_v1_column_types_slanted_ref',\n",
       " 'aibs_column_nonneuronal_ref',\n",
       " 'nucleus_ref_neuron_svm',\n",
       " 'aibs_soma_nuc_exc_mtype_preds_v117',\n",
       " 'baylor_log_reg_cell_type_coarse_v1',\n",
       " 'apl_functional_coreg_forward_v5',\n",
       " 'nucleus_detection_v0',\n",
       " 'aibs_soma_nuc_metamodel_preds_v117',\n",
       " 'coregistration_manual_v3']"
      ]
     },
     "execution_count": 6,
     "metadata": {},
     "output_type": "execute_result"
    }
   ],
   "source": [
    "client.materialize.get_tables()"
   ]
  },
  {
   "cell_type": "markdown",
   "metadata": {},
   "source": [
    "### Query functionally matched EM neurons"
   ]
  },
  {
   "cell_type": "code",
   "execution_count": 7,
   "metadata": {},
   "outputs": [],
   "source": [
    "import pandas as pd"
   ]
  },
  {
   "cell_type": "code",
   "execution_count": 8,
   "metadata": {},
   "outputs": [
    {
     "data": {
      "text/html": [
       "<div>\n",
       "<style scoped>\n",
       "    .dataframe tbody tr th:only-of-type {\n",
       "        vertical-align: middle;\n",
       "    }\n",
       "\n",
       "    .dataframe tbody tr th {\n",
       "        vertical-align: top;\n",
       "    }\n",
       "\n",
       "    .dataframe thead th {\n",
       "        text-align: right;\n",
       "    }\n",
       "</style>\n",
       "<table border=\"1\" class=\"dataframe\">\n",
       "  <thead>\n",
       "    <tr style=\"text-align: right;\">\n",
       "      <th></th>\n",
       "      <th>id</th>\n",
       "      <th>created</th>\n",
       "      <th>valid</th>\n",
       "      <th>target_id</th>\n",
       "      <th>session</th>\n",
       "      <th>scan_idx</th>\n",
       "      <th>unit_id</th>\n",
       "      <th>field</th>\n",
       "      <th>residual</th>\n",
       "      <th>score</th>\n",
       "      <th>id_ref</th>\n",
       "      <th>created_ref</th>\n",
       "      <th>valid_ref</th>\n",
       "      <th>volume</th>\n",
       "      <th>pt_supervoxel_id</th>\n",
       "      <th>pt_root_id</th>\n",
       "      <th>pt_position</th>\n",
       "      <th>bb_start_position</th>\n",
       "      <th>bb_end_position</th>\n",
       "    </tr>\n",
       "  </thead>\n",
       "  <tbody>\n",
       "    <tr>\n",
       "      <th>0</th>\n",
       "      <td>13434</td>\n",
       "      <td>2023-04-05 22:39:53.474202+00:00</td>\n",
       "      <td>t</td>\n",
       "      <td>582276</td>\n",
       "      <td>7</td>\n",
       "      <td>5</td>\n",
       "      <td>4909</td>\n",
       "      <td>4</td>\n",
       "      <td>6.10722</td>\n",
       "      <td>9.568690</td>\n",
       "      <td>582276</td>\n",
       "      <td>2020-09-28 22:41:42.536121+00:00</td>\n",
       "      <td>t</td>\n",
       "      <td>274.291589</td>\n",
       "      <td>111332012547320963</td>\n",
       "      <td>864691135738685297</td>\n",
       "      <td>[338720, 125232, 19589]</td>\n",
       "      <td>[nan, nan, nan]</td>\n",
       "      <td>[nan, nan, nan]</td>\n",
       "    </tr>\n",
       "    <tr>\n",
       "      <th>1</th>\n",
       "      <td>3045</td>\n",
       "      <td>2023-04-05 22:39:03.110911+00:00</td>\n",
       "      <td>t</td>\n",
       "      <td>194144</td>\n",
       "      <td>7</td>\n",
       "      <td>4</td>\n",
       "      <td>9575</td>\n",
       "      <td>6</td>\n",
       "      <td>8.55708</td>\n",
       "      <td>-0.714900</td>\n",
       "      <td>194144</td>\n",
       "      <td>2020-09-28 22:42:01.511773+00:00</td>\n",
       "      <td>t</td>\n",
       "      <td>213.307228</td>\n",
       "      <td>83542405709639148</td>\n",
       "      <td>864691135614842827</td>\n",
       "      <td>[136400, 170640, 17951]</td>\n",
       "      <td>[nan, nan, nan]</td>\n",
       "      <td>[nan, nan, nan]</td>\n",
       "    </tr>\n",
       "    <tr>\n",
       "      <th>2</th>\n",
       "      <td>1474</td>\n",
       "      <td>2023-04-05 22:36:19.477499+00:00</td>\n",
       "      <td>t</td>\n",
       "      <td>293318</td>\n",
       "      <td>9</td>\n",
       "      <td>4</td>\n",
       "      <td>8066</td>\n",
       "      <td>6</td>\n",
       "      <td>5.63758</td>\n",
       "      <td>8.915025</td>\n",
       "      <td>293318</td>\n",
       "      <td>2020-09-28 22:45:23.572432+00:00</td>\n",
       "      <td>t</td>\n",
       "      <td>430.108180</td>\n",
       "      <td>90783515419343652</td>\n",
       "      <td>864691135502985397</td>\n",
       "      <td>[189472, 119296, 26037]</td>\n",
       "      <td>[nan, nan, nan]</td>\n",
       "      <td>[nan, nan, nan]</td>\n",
       "    </tr>\n",
       "    <tr>\n",
       "      <th>3</th>\n",
       "      <td>7915</td>\n",
       "      <td>2023-04-05 22:39:15.451639+00:00</td>\n",
       "      <td>t</td>\n",
       "      <td>332833</td>\n",
       "      <td>6</td>\n",
       "      <td>7</td>\n",
       "      <td>6413</td>\n",
       "      <td>6</td>\n",
       "      <td>5.27806</td>\n",
       "      <td>7.808064</td>\n",
       "      <td>332833</td>\n",
       "      <td>2020-09-28 22:44:41.864456+00:00</td>\n",
       "      <td>t</td>\n",
       "      <td>274.418729</td>\n",
       "      <td>93535317407139914</td>\n",
       "      <td>864691135387371905</td>\n",
       "      <td>[209328, 174304, 20004]</td>\n",
       "      <td>[nan, nan, nan]</td>\n",
       "      <td>[nan, nan, nan]</td>\n",
       "    </tr>\n",
       "    <tr>\n",
       "      <th>4</th>\n",
       "      <td>11589</td>\n",
       "      <td>2023-04-05 22:39:47.420305+00:00</td>\n",
       "      <td>t</td>\n",
       "      <td>295460</td>\n",
       "      <td>9</td>\n",
       "      <td>3</td>\n",
       "      <td>7748</td>\n",
       "      <td>6</td>\n",
       "      <td>5.20837</td>\n",
       "      <td>2.999543</td>\n",
       "      <td>295460</td>\n",
       "      <td>2020-09-28 22:41:24.368712+00:00</td>\n",
       "      <td>t</td>\n",
       "      <td>208.616653</td>\n",
       "      <td>90225718084406516</td>\n",
       "      <td>864691135661410544</td>\n",
       "      <td>[185088, 157776, 15691]</td>\n",
       "      <td>[nan, nan, nan]</td>\n",
       "      <td>[nan, nan, nan]</td>\n",
       "    </tr>\n",
       "    <tr>\n",
       "      <th>...</th>\n",
       "      <td>...</td>\n",
       "      <td>...</td>\n",
       "      <td>...</td>\n",
       "      <td>...</td>\n",
       "      <td>...</td>\n",
       "      <td>...</td>\n",
       "      <td>...</td>\n",
       "      <td>...</td>\n",
       "      <td>...</td>\n",
       "      <td>...</td>\n",
       "      <td>...</td>\n",
       "      <td>...</td>\n",
       "      <td>...</td>\n",
       "      <td>...</td>\n",
       "      <td>...</td>\n",
       "      <td>...</td>\n",
       "      <td>...</td>\n",
       "      <td>...</td>\n",
       "      <td>...</td>\n",
       "    </tr>\n",
       "    <tr>\n",
       "      <th>13920</th>\n",
       "      <td>2323</td>\n",
       "      <td>2023-04-05 22:39:00.197594+00:00</td>\n",
       "      <td>t</td>\n",
       "      <td>293075</td>\n",
       "      <td>9</td>\n",
       "      <td>4</td>\n",
       "      <td>4693</td>\n",
       "      <td>4</td>\n",
       "      <td>3.21152</td>\n",
       "      <td>6.692787</td>\n",
       "      <td>293075</td>\n",
       "      <td>2020-09-28 22:41:16.438872+00:00</td>\n",
       "      <td>t</td>\n",
       "      <td>287.333417</td>\n",
       "      <td>91487065153289270</td>\n",
       "      <td>864691136144304948</td>\n",
       "      <td>[194528, 118128, 23566]</td>\n",
       "      <td>[nan, nan, nan]</td>\n",
       "      <td>[nan, nan, nan]</td>\n",
       "    </tr>\n",
       "    <tr>\n",
       "      <th>13921</th>\n",
       "      <td>10023</td>\n",
       "      <td>2023-04-05 22:39:40.658776+00:00</td>\n",
       "      <td>t</td>\n",
       "      <td>293075</td>\n",
       "      <td>9</td>\n",
       "      <td>4</td>\n",
       "      <td>7533</td>\n",
       "      <td>6</td>\n",
       "      <td>10.42720</td>\n",
       "      <td>-0.232141</td>\n",
       "      <td>293075</td>\n",
       "      <td>2020-09-28 22:41:16.438872+00:00</td>\n",
       "      <td>t</td>\n",
       "      <td>287.333417</td>\n",
       "      <td>91487065153289270</td>\n",
       "      <td>864691136144304948</td>\n",
       "      <td>[194528, 118128, 23566]</td>\n",
       "      <td>[nan, nan, nan]</td>\n",
       "      <td>[nan, nan, nan]</td>\n",
       "    </tr>\n",
       "    <tr>\n",
       "      <th>13922</th>\n",
       "      <td>2840</td>\n",
       "      <td>2023-04-05 22:39:00.636805+00:00</td>\n",
       "      <td>t</td>\n",
       "      <td>395416</td>\n",
       "      <td>9</td>\n",
       "      <td>3</td>\n",
       "      <td>2456</td>\n",
       "      <td>2</td>\n",
       "      <td>4.95407</td>\n",
       "      <td>3.168314</td>\n",
       "      <td>395416</td>\n",
       "      <td>2020-09-28 22:44:46.280352+00:00</td>\n",
       "      <td>t</td>\n",
       "      <td>282.205061</td>\n",
       "      <td>97825062761246370</td>\n",
       "      <td>864691135394864117</td>\n",
       "      <td>[240528, 154032, 25770]</td>\n",
       "      <td>[nan, nan, nan]</td>\n",
       "      <td>[nan, nan, nan]</td>\n",
       "    </tr>\n",
       "    <tr>\n",
       "      <th>13923</th>\n",
       "      <td>4554</td>\n",
       "      <td>2023-04-05 22:39:07.141941+00:00</td>\n",
       "      <td>t</td>\n",
       "      <td>395416</td>\n",
       "      <td>9</td>\n",
       "      <td>3</td>\n",
       "      <td>4759</td>\n",
       "      <td>4</td>\n",
       "      <td>6.51528</td>\n",
       "      <td>4.102491</td>\n",
       "      <td>395416</td>\n",
       "      <td>2020-09-28 22:44:46.280352+00:00</td>\n",
       "      <td>t</td>\n",
       "      <td>282.205061</td>\n",
       "      <td>97825062761246370</td>\n",
       "      <td>864691135394864117</td>\n",
       "      <td>[240528, 154032, 25770]</td>\n",
       "      <td>[nan, nan, nan]</td>\n",
       "      <td>[nan, nan, nan]</td>\n",
       "    </tr>\n",
       "    <tr>\n",
       "      <th>13924</th>\n",
       "      <td>11479</td>\n",
       "      <td>2023-04-05 22:39:47.331131+00:00</td>\n",
       "      <td>t</td>\n",
       "      <td>485825</td>\n",
       "      <td>5</td>\n",
       "      <td>6</td>\n",
       "      <td>1538</td>\n",
       "      <td>2</td>\n",
       "      <td>5.26231</td>\n",
       "      <td>9.976701</td>\n",
       "      <td>485825</td>\n",
       "      <td>2020-09-28 22:41:48.027148+00:00</td>\n",
       "      <td>t</td>\n",
       "      <td>371.868795</td>\n",
       "      <td>105277895836000216</td>\n",
       "      <td>864691136966674894</td>\n",
       "      <td>[294512, 107648, 23083]</td>\n",
       "      <td>[nan, nan, nan]</td>\n",
       "      <td>[nan, nan, nan]</td>\n",
       "    </tr>\n",
       "  </tbody>\n",
       "</table>\n",
       "<p>13925 rows × 19 columns</p>\n",
       "</div>"
      ],
      "text/plain": [
       "          id                          created valid  target_id  session  \\\n",
       "0      13434 2023-04-05 22:39:53.474202+00:00     t     582276        7   \n",
       "1       3045 2023-04-05 22:39:03.110911+00:00     t     194144        7   \n",
       "2       1474 2023-04-05 22:36:19.477499+00:00     t     293318        9   \n",
       "3       7915 2023-04-05 22:39:15.451639+00:00     t     332833        6   \n",
       "4      11589 2023-04-05 22:39:47.420305+00:00     t     295460        9   \n",
       "...      ...                              ...   ...        ...      ...   \n",
       "13920   2323 2023-04-05 22:39:00.197594+00:00     t     293075        9   \n",
       "13921  10023 2023-04-05 22:39:40.658776+00:00     t     293075        9   \n",
       "13922   2840 2023-04-05 22:39:00.636805+00:00     t     395416        9   \n",
       "13923   4554 2023-04-05 22:39:07.141941+00:00     t     395416        9   \n",
       "13924  11479 2023-04-05 22:39:47.331131+00:00     t     485825        5   \n",
       "\n",
       "       scan_idx  unit_id  field  residual     score  id_ref  \\\n",
       "0             5     4909      4   6.10722  9.568690  582276   \n",
       "1             4     9575      6   8.55708 -0.714900  194144   \n",
       "2             4     8066      6   5.63758  8.915025  293318   \n",
       "3             7     6413      6   5.27806  7.808064  332833   \n",
       "4             3     7748      6   5.20837  2.999543  295460   \n",
       "...         ...      ...    ...       ...       ...     ...   \n",
       "13920         4     4693      4   3.21152  6.692787  293075   \n",
       "13921         4     7533      6  10.42720 -0.232141  293075   \n",
       "13922         3     2456      2   4.95407  3.168314  395416   \n",
       "13923         3     4759      4   6.51528  4.102491  395416   \n",
       "13924         6     1538      2   5.26231  9.976701  485825   \n",
       "\n",
       "                           created_ref valid_ref      volume  \\\n",
       "0     2020-09-28 22:41:42.536121+00:00         t  274.291589   \n",
       "1     2020-09-28 22:42:01.511773+00:00         t  213.307228   \n",
       "2     2020-09-28 22:45:23.572432+00:00         t  430.108180   \n",
       "3     2020-09-28 22:44:41.864456+00:00         t  274.418729   \n",
       "4     2020-09-28 22:41:24.368712+00:00         t  208.616653   \n",
       "...                                ...       ...         ...   \n",
       "13920 2020-09-28 22:41:16.438872+00:00         t  287.333417   \n",
       "13921 2020-09-28 22:41:16.438872+00:00         t  287.333417   \n",
       "13922 2020-09-28 22:44:46.280352+00:00         t  282.205061   \n",
       "13923 2020-09-28 22:44:46.280352+00:00         t  282.205061   \n",
       "13924 2020-09-28 22:41:48.027148+00:00         t  371.868795   \n",
       "\n",
       "         pt_supervoxel_id          pt_root_id              pt_position  \\\n",
       "0      111332012547320963  864691135738685297  [338720, 125232, 19589]   \n",
       "1       83542405709639148  864691135614842827  [136400, 170640, 17951]   \n",
       "2       90783515419343652  864691135502985397  [189472, 119296, 26037]   \n",
       "3       93535317407139914  864691135387371905  [209328, 174304, 20004]   \n",
       "4       90225718084406516  864691135661410544  [185088, 157776, 15691]   \n",
       "...                   ...                 ...                      ...   \n",
       "13920   91487065153289270  864691136144304948  [194528, 118128, 23566]   \n",
       "13921   91487065153289270  864691136144304948  [194528, 118128, 23566]   \n",
       "13922   97825062761246370  864691135394864117  [240528, 154032, 25770]   \n",
       "13923   97825062761246370  864691135394864117  [240528, 154032, 25770]   \n",
       "13924  105277895836000216  864691136966674894  [294512, 107648, 23083]   \n",
       "\n",
       "      bb_start_position  bb_end_position  \n",
       "0       [nan, nan, nan]  [nan, nan, nan]  \n",
       "1       [nan, nan, nan]  [nan, nan, nan]  \n",
       "2       [nan, nan, nan]  [nan, nan, nan]  \n",
       "3       [nan, nan, nan]  [nan, nan, nan]  \n",
       "4       [nan, nan, nan]  [nan, nan, nan]  \n",
       "...                 ...              ...  \n",
       "13920   [nan, nan, nan]  [nan, nan, nan]  \n",
       "13921   [nan, nan, nan]  [nan, nan, nan]  \n",
       "13922   [nan, nan, nan]  [nan, nan, nan]  \n",
       "13923   [nan, nan, nan]  [nan, nan, nan]  \n",
       "13924   [nan, nan, nan]  [nan, nan, nan]  \n",
       "\n",
       "[13925 rows x 19 columns]"
      ]
     },
     "execution_count": 8,
     "metadata": {},
     "output_type": "execute_result"
    }
   ],
   "source": [
    "matched_df = client.materialize.query_table('coregistration_manual_v3')\n",
    "matched_df"
   ]
  },
  {
   "cell_type": "markdown",
   "metadata": {},
   "source": [
    "### Column descriptions:\n",
    "\n",
    "<b>id:</b> a unique identifier for this row\n",
    "\n",
    "<b>valid:</b> internal check, uniformly ‘t’\n",
    "\n",
    "<b>pt_supervoxel_id:</b> the ID of the supervoxel from the watershed segmentation that is under the pt_position\n",
    "\n",
    "<b>pt_root_id:</b> the ID of the segment/root_id under the pt_position from the Proofread Segmentation (v343).\n",
    "\n",
    "<b>session:</b> the ID indicating the imaging period for the mouse\n",
    "\n",
    "<b>scan_idx:</b> the index of the scan within the imaging session\n",
    "\n",
    "<b>unit_id:</b> the ID of the functional ROI (unique per scan)\n",
    "\n",
    "<b>pt_position_{x,y,z}:</b> the location in 4,4,40 nm voxels at a cell body for the cell\n",
    "\n",
    "<b>residual:</b> the Euclidean distance between the EM nucleus centroid and the matched functional centroid after the AIBS EM -> 2P coregistration transform\n",
    "\n",
    "<b>separation:</b> For a matched EM nucleus to a functional unit the separation score is computed as the difference between the residual of the matched pair and the residual of the nearest EM neuronal nucleus that was not matched to the unit.\n",
    "\n",
    "Note: More confident matches will have a smaller residual and larger separation"
   ]
  },
  {
   "cell_type": "markdown",
   "metadata": {},
   "source": [
    "### Select a random entry"
   ]
  },
  {
   "cell_type": "code",
   "execution_count": 9,
   "metadata": {},
   "outputs": [
    {
     "data": {
      "text/html": [
       "<div>\n",
       "<style scoped>\n",
       "    .dataframe tbody tr th:only-of-type {\n",
       "        vertical-align: middle;\n",
       "    }\n",
       "\n",
       "    .dataframe tbody tr th {\n",
       "        vertical-align: top;\n",
       "    }\n",
       "\n",
       "    .dataframe thead th {\n",
       "        text-align: right;\n",
       "    }\n",
       "</style>\n",
       "<table border=\"1\" class=\"dataframe\">\n",
       "  <thead>\n",
       "    <tr style=\"text-align: right;\">\n",
       "      <th></th>\n",
       "      <th>id</th>\n",
       "      <th>created</th>\n",
       "      <th>valid</th>\n",
       "      <th>target_id</th>\n",
       "      <th>session</th>\n",
       "      <th>scan_idx</th>\n",
       "      <th>unit_id</th>\n",
       "      <th>field</th>\n",
       "      <th>residual</th>\n",
       "      <th>score</th>\n",
       "      <th>id_ref</th>\n",
       "      <th>created_ref</th>\n",
       "      <th>valid_ref</th>\n",
       "      <th>volume</th>\n",
       "      <th>pt_supervoxel_id</th>\n",
       "      <th>pt_root_id</th>\n",
       "      <th>pt_position</th>\n",
       "      <th>bb_start_position</th>\n",
       "      <th>bb_end_position</th>\n",
       "    </tr>\n",
       "  </thead>\n",
       "  <tbody>\n",
       "    <tr>\n",
       "      <th>13072</th>\n",
       "      <td>5955</td>\n",
       "      <td>2023-04-05 22:39:10.165888+00:00</td>\n",
       "      <td>t</td>\n",
       "      <td>653528</td>\n",
       "      <td>5</td>\n",
       "      <td>3</td>\n",
       "      <td>4303</td>\n",
       "      <td>4</td>\n",
       "      <td>6.25951</td>\n",
       "      <td>5.985315</td>\n",
       "      <td>653528</td>\n",
       "      <td>2020-09-28 22:41:06.348841+00:00</td>\n",
       "      <td>t</td>\n",
       "      <td>252.391916</td>\n",
       "      <td>116330049212371158</td>\n",
       "      <td>864691135848594270</td>\n",
       "      <td>[375088, 139024, 22593]</td>\n",
       "      <td>[nan, nan, nan]</td>\n",
       "      <td>[nan, nan, nan]</td>\n",
       "    </tr>\n",
       "  </tbody>\n",
       "</table>\n",
       "</div>"
      ],
      "text/plain": [
       "         id                          created valid  target_id  session  \\\n",
       "13072  5955 2023-04-05 22:39:10.165888+00:00     t     653528        5   \n",
       "\n",
       "       scan_idx  unit_id  field  residual     score  id_ref  \\\n",
       "13072         3     4303      4   6.25951  5.985315  653528   \n",
       "\n",
       "                           created_ref valid_ref      volume  \\\n",
       "13072 2020-09-28 22:41:06.348841+00:00         t  252.391916   \n",
       "\n",
       "         pt_supervoxel_id          pt_root_id              pt_position  \\\n",
       "13072  116330049212371158  864691135848594270  [375088, 139024, 22593]   \n",
       "\n",
       "      bb_start_position  bb_end_position  \n",
       "13072   [nan, nan, nan]  [nan, nan, nan]  "
      ]
     },
     "execution_count": 9,
     "metadata": {},
     "output_type": "execute_result"
    }
   ],
   "source": [
    "entry = matched_df.sample(1)\n",
    "entry"
   ]
  },
  {
   "cell_type": "code",
   "execution_count": 10,
   "metadata": {},
   "outputs": [],
   "source": [
    "segment = entry.pt_root_id.values[0] # get ID of segment to visualize\n",
    "centroid = entry.pt_position.values[0] # get centroid of segment"
   ]
  },
  {
   "cell_type": "markdown",
   "metadata": {},
   "source": [
    "## View entry in Neuroglancer"
   ]
  },
  {
   "attachments": {},
   "cell_type": "markdown",
   "metadata": {},
   "source": [
    "Programmatic editing of Neuroglancer links can be accomplished using the Seung lab/ AIBS package [nglui](https://github.com/seung-lab/NeuroglancerAnnotationUI).\n",
    "\n",
    "[Example notebook](https://github.com/seung-lab/NeuroglancerAnnotationUI/blob/master/examples/statebuilder_examples.ipynb)"
   ]
  },
  {
   "cell_type": "code",
   "execution_count": 11,
   "metadata": {},
   "outputs": [
    {
     "data": {
      "text/html": [
       "<a href=\"https://neuromancer-seung-import.appspot.com/#!%7B%22navigation%22:%7B%22pose%22:%7B%22position%22:%7B%22voxelSize%22:%5B4.0,4.0,40.0%5D,%22voxelCoordinates%22:%5B375088.0,139024.0,22593.0%5D%7D%7D,%22zoomFactor%22:2.0%7D,%22showSlices%22:false,%22layout%22:%223d%22,%22perspectiveZoom%22:3000.0,%22layers%22:%5B%7B%22type%22:%22image%22,%22source%22:%22precomputed://https://bossdb-open-data.s3.amazonaws.com/iarpa_microns/minnie/minnie65/em%22,%22name%22:%22img%22,%22shader%22:%22#uicontrol%20float%20black%20slider(min=0,%20max=1,%20default=0.35)%5Cn#uicontrol%20float%20white%20slider(min=0,%20max=1,%20default=0.7)%5Cnfloat%20rescale(float%20value)%20%7B%5Cn%20%20return%20(value%20-%20black)%20/%20(white%20-%20black);%5Cn%7D%5Cnvoid%20main()%20%7B%5Cn%20%20float%20val%20=%20toNormalized(getDataValue());%5Cn%20%20if%20(val%20%3C%20black)%20%7B%5Cn%20%20%20%20emitRGB(vec3(0,0,0));%5Cn%20%20%7D%20else%20if%20(val%20%3E%20white)%20%7B%5Cn%20%20%20%20emitRGB(vec3(1.0,%201.0,%201.0));%5Cn%20%20%7D%20else%20%7B%5Cn%20%20%20%20emitGrayscale(rescale(val));%5Cn%20%20%7D%5Cn%7D%5Cn%22%7D,%7B%22type%22:%22segmentation_with_graph%22,%22source%22:%22graphene://https://minnie.microns-daf.com/segmentation/table/minnie65_public%22,%22name%22:%22seg%22,%22segments%22:%5B%22864691135848594270%22%5D,%22segmentColors%22:%7B%7D,%22selectedAlpha%22:0.3,%22objectAlpha%22:1.0,%22notSelectedAlpha%22:0.0%7D%5D%7D\" target=\"_blank\">Neuroglancer Link</a>"
      ],
      "text/plain": [
       "<IPython.core.display.HTML object>"
      ]
     },
     "execution_count": 11,
     "metadata": {},
     "output_type": "execute_result"
    }
   ],
   "source": [
    "# generate links in Seung lab a custom Neuroglancer deployment called Neuromancer\n",
    "from nglui import statebuilder, EasyViewer \n",
    "\n",
    "viewer = EasyViewer()\n",
    "viewer.set_resolution((4,4,40))\n",
    "\n",
    "em_layer = statebuilder.ImageLayerConfig(client.info.image_source(), \n",
    "                                         contrast_controls=True, black=0.35, white=0.7) # set EM layer \n",
    "seg_layer =  statebuilder.SegmentationLayerConfig(client.info.segmentation_source(),  \n",
    "                                                  name='seg', fixed_ids=[segment]) # set dynamic segmentation layer\n",
    "view_kws = {'layout': '3d',\n",
    "            'zoom_3d': 3000,\n",
    "            'position': centroid}  # set zoom options and center on segment\n",
    "\n",
    "sb = statebuilder.StateBuilder([em_layer, seg_layer], view_kws=view_kws) # generate statebuilder\n",
    "sb.render_state(return_as='html', base_state=viewer.state) # render state as html link\n"
   ]
  },
  {
   "cell_type": "markdown",
   "metadata": {},
   "source": [
    "# Access Functional data"
   ]
  },
  {
   "attachments": {},
   "cell_type": "markdown",
   "metadata": {},
   "source": [
    "This notebook assumes you have access to a copy of the SQL database that houses the functional data and the functional data schema repository. Instructions to download are [here](https://www.microns-explorer.org/cortical-mm3#f-data).\n",
    "\n",
    "The contents of the SQL schema are accessed programmatically using [DataJoint](https://datajoint.io/). Find an example notebook for using DataJoint to access the functional data [here](Using_DataJoint_to_Access_Functional_Data.ipynb)."
   ]
  },
  {
   "cell_type": "code",
   "execution_count": 10,
   "metadata": {},
   "outputs": [],
   "source": [
    "from microns_phase3 import nda, utils\n",
    "import numpy as np\n",
    "import matplotlib.pyplot as plt"
   ]
  },
  {
   "cell_type": "markdown",
   "metadata": {},
   "source": [
    "### Convert entry to DataJoint compatible key"
   ]
  },
  {
   "cell_type": "markdown",
   "metadata": {},
   "source": [
    "DataJoint tables can be restricted with dictionaries. Here we generate a dictionary of attributes that specify the unique functional ROI in the DataJoint schema. "
   ]
  },
  {
   "cell_type": "code",
   "execution_count": 11,
   "metadata": {},
   "outputs": [
    {
     "data": {
      "text/plain": [
       "{'session': 6, 'scan_idx': 6, 'unit_id': 6198}"
      ]
     },
     "execution_count": 11,
     "metadata": {},
     "output_type": "execute_result"
    }
   ],
   "source": [
    "unit_key = entry[['session', 'scan_idx', 'unit_id']].to_dict(orient='records')[0]\n",
    "unit_key"
   ]
  },
  {
   "cell_type": "markdown",
   "metadata": {},
   "source": [
    "### Fetch & plot activity trace, calcium trace, pupil radius, and treadmill"
   ]
  },
  {
   "cell_type": "markdown",
   "metadata": {},
   "source": [
    "Here we use the key to fetch and plot a variety of data from the schema, including the unit's calcium & spike traces, and the scan's pupil trace and treadmill speed. \n",
    "\n",
    "Note: The `nda.ManualPupil` and `nda.Treadmill` tables only contain the `session` and `scan_idx` attributes, but can still be retrieved with the `unit_key`. The `unit_id` attribute is ignored when restricting against these tables."
   ]
  },
  {
   "cell_type": "code",
   "execution_count": 12,
   "metadata": {},
   "outputs": [],
   "source": [
    "nframes, fps = (nda.Scan & unit_key).fetch1('nframes', 'fps')  # fetch # frames and fps\n",
    "time_axis = np.arange(nframes)/ fps # create time axis (seconds)\n",
    "spike_trace = (nda.Activity & unit_key).fetch1('trace') # fetch spike trace\n",
    "calcium_trace = (nda.ScanUnit * nda.Fluorescence & unit_key).fetch1('trace') # fetch calcium fluorescence trace\n",
    "pupil_radius = (nda.ManualPupil & unit_key).fetch1('pupil_maj_r') # fetch manually segmented pupil trace \n",
    "treadmill = (nda.Treadmill & unit_key).fetch1('treadmill_velocity') # fetch treadmill speed"
   ]
  },
  {
   "cell_type": "code",
   "execution_count": 13,
   "metadata": {},
   "outputs": [
    {
     "data": {
      "image/png": "[encoded data removed]",
      "text/plain": [
       "<Figure size 1080x576 with 3 Axes>"
      ]
     },
     "metadata": {
      "needs_background": "light"
     },
     "output_type": "display_data"
    }
   ],
   "source": [
    "fig, (ax1, ax2, ax3) = plt.subplots(3, 1, figsize=(15, 8), sharex=True)\n",
    "ax1.plot(time_axis, calcium_trace, color='g', alpha=0.3, label='calcium trace')\n",
    "ax1.plot(time_axis, spike_trace, color='k', label='spike trace')\n",
    "ax2.plot(time_axis, pupil_radius, color='k')\n",
    "ax3.plot(time_axis, treadmill, color='k')\n",
    "ax3.set_xlim(3000, 4000) \n",
    "ax1.set_ylabel('response magnitude')\n",
    "ax1.legend()\n",
    "ax2.set_ylabel('pupil radius')\n",
    "ax3.set_ylabel('treadmill speed')\n",
    "fig.suptitle(f'session: {unit_key[\"session\"]}, scan_idx: {unit_key[\"scan_idx\"]}, unit_id: {unit_key[\"unit_id\"]}', fontsize=22);\n",
    "[ax.spines['right'].set_visible(False) for ax in [ax1, ax2, ax3]];\n",
    "[ax.spines['top'].set_visible(False) for ax in [ax1, ax2, ax3]];"
   ]
  },
  {
   "cell_type": "markdown",
   "metadata": {},
   "source": [
    "### Plot oracle raster"
   ]
  },
  {
   "cell_type": "markdown",
   "metadata": {},
   "source": [
    "Here we use a function provided in the `utils` module to retrieve the responses for the functional unit for the repeated stimulus trials (oracle trials). For a further description of the oracle see the technical documentation."
   ]
  },
  {
   "cell_type": "code",
   "execution_count": 14,
   "metadata": {},
   "outputs": [],
   "source": [
    "oracle_traces, score = utils.fetch_oracle_raster(unit_key)"
   ]
  },
  {
   "cell_type": "code",
   "execution_count": 15,
   "metadata": {},
   "outputs": [
    {
     "data": {
      "text/plain": [
       "Text(0.5, 1.2, 'session: 6, scan_idx: 6, unit_id: 6198')"
      ]
     },
     "execution_count": 15,
     "metadata": {},
     "output_type": "execute_result"
    },
    {
     "data": {
      "image/png": "[encoded data removed]",
      "text/plain": [
       "<Figure size 1800x300 with 6 Axes>"
      ]
     },
     "metadata": {},
     "output_type": "display_data"
    }
   ],
   "source": [
    "fig,axes = plt.subplots(1,6, figsize=(6,1),dpi=300)\n",
    "for col,clip_trace in zip(axes,np.moveaxis(oracle_traces,1,0)):\n",
    "    col.imshow(clip_trace,cmap='binary', interpolation='nearest')\n",
    "    col.set_aspect('auto')\n",
    "    col.set_xticks([])\n",
    "    col.set_yticks([])\n",
    "axes[0].set_ylabel(f'oracle score: {score:.2f}', fontsize=5)\n",
    "fig.subplots_adjust(wspace=.05)\n",
    "[ax.set_title(f'oracle clip {i+1}', fontsize=6) for i, ax in enumerate(axes)];\n",
    "fig.suptitle(f'session: {unit_key[\"session\"]}, scan_idx: {unit_key[\"scan_idx\"]}, unit_id: {unit_key[\"unit_id\"]}', fontsize=7, y=1.2)"
   ]
  }
 ],
 "metadata": {
  "kernelspec": {
   "display_name": "Python 3",
   "language": "python",
   "name": "python3"
  },
  "language_info": {
   "codemirror_mode": {
    "name": "ipython",
    "version": 3
   },
   "file_extension": ".py",
   "mimetype": "text/x-python",
   "name": "python",
   "nbconvert_exporter": "python",
   "pygments_lexer": "ipython3",
   "version": "3.9.17"
  }
 },
 "nbformat": 4,
 "nbformat_minor": 2
}
