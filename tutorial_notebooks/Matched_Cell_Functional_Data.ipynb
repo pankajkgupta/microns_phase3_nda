{
 "cells": [
  {
   "cell_type": "markdown",
   "metadata": {},
   "source": [
    "# Introduction"
   ]
  },
  {
   "cell_type": "markdown",
   "metadata": {},
   "source": [
    "This notebook assumes you have activated credentials with the CAVE client. CAVE (Connectome Annotation Versioning Engine) is built and supported by a collaboration between the Seung lab at Princeton and the Allen Institute for Brain Science. It allows for programmatic access to the tables associated with Minnie and other datasets. [Github](https://github.com/seung-lab/CAVEclient) \n",
    "\n",
    "CAVE setup instructions are [here](https://github.com/AllenInstitute/MicronsBinder/blob/master/notebooks/mm3_intro/CAVEsetup.ipynb).\n",
    "\n",
    "CAVE tutorial for querying the data is [here](https://github.com/AllenInstitute/MicronsBinder/blob/master/notebooks/mm3_intro/SynapseAndAnnotationQuery.ipynb)."
   ]
  },
  {
   "cell_type": "markdown",
   "metadata": {},
   "source": [
    "## Using CAVEclient to query data"
   ]
  },
  {
   "cell_type": "code",
   "metadata": {
    "ExecuteTime": {
     "end_time": "2024-11-09T07:28:27.665560Z",
     "start_time": "2024-11-09T07:28:26.935308Z"
    }
   },
   "source": [
    "from caveclient import CAVEclient"
   ],
   "outputs": [
    {
     "name": "stderr",
     "output_type": "stream",
     "text": [
      "WARNING:root:cloudvolume not available. 'precomputed' output format will not work.\n"
     ]
    }
   ],
   "execution_count": 1
  },
  {
   "cell_type": "markdown",
   "metadata": {},
   "source": [
    "Load the public client for accessing the datastack in CAVE. If you have not acquired an authentication token, run the code below to get a new token. You will need to link your Google account."
   ]
  },
  {
   "cell_type": "code",
   "metadata": {
    "ExecuteTime": {
     "end_time": "2024-11-09T07:32:48.706808Z",
     "start_time": "2024-11-09T07:32:48.700657Z"
    }
   },
   "source": [
    "client = CAVEclient()\n",
    "client.auth.save_token(token=\"3fedb5aedd33f7ddc710953e0fe1c7cc\", overwrite=True)\n",
    "#client.auth.get_new_token()"
   ],
   "outputs": [],
   "execution_count": 2
  },
  {
   "cell_type": "markdown",
   "metadata": {},
   "source": [
    "If you have successfully added your token or already have a valid token saved from a previous session, you should be able to initialize the client with the `minnie65_public` datastack:\n",
    "\n",
    "```python\n",
    "client = CAVEclient('minnie65_public')\n",
    "```\n",
    "\n",
    "If your previous saved token is invalidated, you will need to save your newly acquired token with the argument `overwrite=True`.\n",
    "\n",
    "```python\n",
    "client.auth.save_token(token=\"3fedb5aedd33f7ddc710953e0fe1c7cc\", overwrite=True)\n",
    "```"
   ]
  },
  {
   "cell_type": "code",
   "metadata": {
    "ExecuteTime": {
     "end_time": "2024-11-09T07:32:52.251164Z",
     "start_time": "2024-11-09T07:32:51.701651Z"
    }
   },
   "source": [
    "# this is the datastack name of the public release\n",
    "# passing it will auto-configure many of the services\n",
    "client = CAVEclient('minnie65_public')"
   ],
   "outputs": [],
   "execution_count": 3
  },
  {
   "attachments": {},
   "cell_type": "markdown",
   "metadata": {},
   "source": [
    "### Setting the version of the public release"
   ]
  },
  {
   "attachments": {},
   "cell_type": "markdown",
   "metadata": {},
   "source": [
    "With the initialized client, set the version of the public release:\n",
    "\n",
    "```python\n",
    "client.materialize.version = VERSION\n",
    "```\n",
    "\n",
    "Table names and data will change between versions. This notebook is built around version `661`. To use a later version, find the corresponding tables in the new version. "
   ]
  },
  {
   "cell_type": "code",
   "metadata": {
    "ExecuteTime": {
     "end_time": "2024-11-09T07:32:59.294991Z",
     "start_time": "2024-11-09T07:32:58.271967Z"
    }
   },
   "source": [
    "client.materialize.version = 661"
   ],
   "outputs": [],
   "execution_count": 4
  },
  {
   "cell_type": "markdown",
   "metadata": {},
   "source": [
    "### View available annotation tables"
   ]
  },
  {
   "cell_type": "code",
   "metadata": {
    "ExecuteTime": {
     "end_time": "2024-11-09T07:33:00.449753Z",
     "start_time": "2024-11-09T07:32:59.946946Z"
    }
   },
   "source": [
    "client.materialize.get_tables()"
   ],
   "outputs": [
    {
     "data": {
      "text/plain": [
       "['synapses_pni_2',\n",
       " 'baylor_gnn_cell_type_fine_model_v2',\n",
       " 'nucleus_alternative_points',\n",
       " 'connectivity_groups_v507',\n",
       " 'proofreading_status_public_release',\n",
       " 'allen_column_mtypes_v1',\n",
       " 'allen_v1_column_types_slanted_ref',\n",
       " 'aibs_column_nonneuronal_ref',\n",
       " 'nucleus_ref_neuron_svm',\n",
       " 'aibs_soma_nuc_exc_mtype_preds_v117',\n",
       " 'baylor_log_reg_cell_type_coarse_v1',\n",
       " 'apl_functional_coreg_forward_v5',\n",
       " 'nucleus_detection_v0',\n",
       " 'aibs_soma_nuc_metamodel_preds_v117',\n",
       " 'coregistration_manual_v3']"
      ]
     },
     "execution_count": 5,
     "metadata": {},
     "output_type": "execute_result"
    }
   ],
   "execution_count": 5
  },
  {
   "cell_type": "markdown",
   "metadata": {},
   "source": [
    "### Query functionally matched EM neurons"
   ]
  },
  {
   "cell_type": "code",
   "metadata": {
    "ExecuteTime": {
     "end_time": "2024-11-09T07:33:03.076781Z",
     "start_time": "2024-11-09T07:33:03.071115Z"
    }
   },
   "source": [
    "import pandas as pd"
   ],
   "outputs": [],
   "execution_count": 6
  },
  {
   "cell_type": "code",
   "metadata": {
    "ExecuteTime": {
     "end_time": "2024-11-09T07:33:06.730174Z",
     "start_time": "2024-11-09T07:33:04.853566Z"
    }
   },
   "source": [
    "matched_df = client.materialize.query_table('coregistration_manual_v3')\n",
    "matched_df"
   ],
   "outputs": [
    {
     "name": "stderr",
     "output_type": "stream",
     "text": [
      "WARNING:caveclient.base:Table Owner Notice on coregistration_manual_v3: NOTE: There in a newer match table, please use \"coregistration_manual_v4\"\n"
     ]
    },
    {
     "data": {
      "text/plain": [
       "       id_ref                      created_ref valid_ref      volume  \\\n",
       "0      582276 2020-09-28 22:41:42.536121+00:00         t  274.291589   \n",
       "1      194144 2020-09-28 22:42:01.511773+00:00         t  213.307228   \n",
       "2      293318 2020-09-28 22:45:23.572432+00:00         t  430.108180   \n",
       "3      332833 2020-09-28 22:44:41.864456+00:00         t  274.418729   \n",
       "4      295460 2020-09-28 22:41:24.368712+00:00         t  208.616653   \n",
       "...       ...                              ...       ...         ...   \n",
       "13920  293075 2020-09-28 22:41:16.438872+00:00         t  287.333417   \n",
       "13921  293075 2020-09-28 22:41:16.438872+00:00         t  287.333417   \n",
       "13922  395416 2020-09-28 22:44:46.280352+00:00         t  282.205061   \n",
       "13923  395416 2020-09-28 22:44:46.280352+00:00         t  282.205061   \n",
       "13924  485825 2020-09-28 22:41:48.027148+00:00         t  371.868795   \n",
       "\n",
       "         pt_supervoxel_id          pt_root_id     id  \\\n",
       "0      111332012547320963  864691135738685297  13434   \n",
       "1       83542405709639148  864691135614842827   3045   \n",
       "2       90783515419343652  864691135502985397   1474   \n",
       "3       93535317407139914  864691135387371905   7915   \n",
       "4       90225718084406516  864691135661410544  11589   \n",
       "...                   ...                 ...    ...   \n",
       "13920   91487065153289270  864691136144304948   2323   \n",
       "13921   91487065153289270  864691136144304948  10023   \n",
       "13922   97825062761246370  864691135394864117   2840   \n",
       "13923   97825062761246370  864691135394864117   4554   \n",
       "13924  105277895836000216  864691136966674894  11479   \n",
       "\n",
       "                               created valid  target_id  session  scan_idx  \\\n",
       "0     2023-04-05 22:39:53.474202+00:00     t     582276        7         5   \n",
       "1     2023-04-05 22:39:03.110911+00:00     t     194144        7         4   \n",
       "2     2023-04-05 22:36:19.477499+00:00     t     293318        9         4   \n",
       "3     2023-04-05 22:39:15.451639+00:00     t     332833        6         7   \n",
       "4     2023-04-05 22:39:47.420305+00:00     t     295460        9         3   \n",
       "...                                ...   ...        ...      ...       ...   \n",
       "13920 2023-04-05 22:39:00.197594+00:00     t     293075        9         4   \n",
       "13921 2023-04-05 22:39:40.658776+00:00     t     293075        9         4   \n",
       "13922 2023-04-05 22:39:00.636805+00:00     t     395416        9         3   \n",
       "13923 2023-04-05 22:39:07.141941+00:00     t     395416        9         3   \n",
       "13924 2023-04-05 22:39:47.331131+00:00     t     485825        5         6   \n",
       "\n",
       "       unit_id  field  residual     score              pt_position  \\\n",
       "0         4909      4   6.10722  9.568690  [338720, 125232, 19589]   \n",
       "1         9575      6   8.55708 -0.714900  [136400, 170640, 17951]   \n",
       "2         8066      6   5.63758  8.915025  [189472, 119296, 26037]   \n",
       "3         6413      6   5.27806  7.808064  [209328, 174304, 20004]   \n",
       "4         7748      6   5.20837  2.999543  [185088, 157776, 15691]   \n",
       "...        ...    ...       ...       ...                      ...   \n",
       "13920     4693      4   3.21152  6.692787  [194528, 118128, 23566]   \n",
       "13921     7533      6  10.42720 -0.232141  [194528, 118128, 23566]   \n",
       "13922     2456      2   4.95407  3.168314  [240528, 154032, 25770]   \n",
       "13923     4759      4   6.51528  4.102491  [240528, 154032, 25770]   \n",
       "13924     1538      2   5.26231  9.976701  [294512, 107648, 23083]   \n",
       "\n",
       "      bb_start_position  bb_end_position  \n",
       "0       [nan, nan, nan]  [nan, nan, nan]  \n",
       "1       [nan, nan, nan]  [nan, nan, nan]  \n",
       "2       [nan, nan, nan]  [nan, nan, nan]  \n",
       "3       [nan, nan, nan]  [nan, nan, nan]  \n",
       "4       [nan, nan, nan]  [nan, nan, nan]  \n",
       "...                 ...              ...  \n",
       "13920   [nan, nan, nan]  [nan, nan, nan]  \n",
       "13921   [nan, nan, nan]  [nan, nan, nan]  \n",
       "13922   [nan, nan, nan]  [nan, nan, nan]  \n",
       "13923   [nan, nan, nan]  [nan, nan, nan]  \n",
       "13924   [nan, nan, nan]  [nan, nan, nan]  \n",
       "\n",
       "[13925 rows x 19 columns]"
      ],
      "text/html": [
       "<div>\n",
       "<style scoped>\n",
       "    .dataframe tbody tr th:only-of-type {\n",
       "        vertical-align: middle;\n",
       "    }\n",
       "\n",
       "    .dataframe tbody tr th {\n",
       "        vertical-align: top;\n",
       "    }\n",
       "\n",
       "    .dataframe thead th {\n",
       "        text-align: right;\n",
       "    }\n",
       "</style>\n",
       "<table border=\"1\" class=\"dataframe\">\n",
       "  <thead>\n",
       "    <tr style=\"text-align: right;\">\n",
       "      <th></th>\n",
       "      <th>id_ref</th>\n",
       "      <th>created_ref</th>\n",
       "      <th>valid_ref</th>\n",
       "      <th>volume</th>\n",
       "      <th>pt_supervoxel_id</th>\n",
       "      <th>pt_root_id</th>\n",
       "      <th>id</th>\n",
       "      <th>created</th>\n",
       "      <th>valid</th>\n",
       "      <th>target_id</th>\n",
       "      <th>session</th>\n",
       "      <th>scan_idx</th>\n",
       "      <th>unit_id</th>\n",
       "      <th>field</th>\n",
       "      <th>residual</th>\n",
       "      <th>score</th>\n",
       "      <th>pt_position</th>\n",
       "      <th>bb_start_position</th>\n",
       "      <th>bb_end_position</th>\n",
       "    </tr>\n",
       "  </thead>\n",
       "  <tbody>\n",
       "    <tr>\n",
       "      <th>0</th>\n",
       "      <td>582276</td>\n",
       "      <td>2020-09-28 22:41:42.536121+00:00</td>\n",
       "      <td>t</td>\n",
       "      <td>274.291589</td>\n",
       "      <td>111332012547320963</td>\n",
       "      <td>864691135738685297</td>\n",
       "      <td>13434</td>\n",
       "      <td>2023-04-05 22:39:53.474202+00:00</td>\n",
       "      <td>t</td>\n",
       "      <td>582276</td>\n",
       "      <td>7</td>\n",
       "      <td>5</td>\n",
       "      <td>4909</td>\n",
       "      <td>4</td>\n",
       "      <td>6.10722</td>\n",
       "      <td>9.568690</td>\n",
       "      <td>[338720, 125232, 19589]</td>\n",
       "      <td>[nan, nan, nan]</td>\n",
       "      <td>[nan, nan, nan]</td>\n",
       "    </tr>\n",
       "    <tr>\n",
       "      <th>1</th>\n",
       "      <td>194144</td>\n",
       "      <td>2020-09-28 22:42:01.511773+00:00</td>\n",
       "      <td>t</td>\n",
       "      <td>213.307228</td>\n",
       "      <td>83542405709639148</td>\n",
       "      <td>864691135614842827</td>\n",
       "      <td>3045</td>\n",
       "      <td>2023-04-05 22:39:03.110911+00:00</td>\n",
       "      <td>t</td>\n",
       "      <td>194144</td>\n",
       "      <td>7</td>\n",
       "      <td>4</td>\n",
       "      <td>9575</td>\n",
       "      <td>6</td>\n",
       "      <td>8.55708</td>\n",
       "      <td>-0.714900</td>\n",
       "      <td>[136400, 170640, 17951]</td>\n",
       "      <td>[nan, nan, nan]</td>\n",
       "      <td>[nan, nan, nan]</td>\n",
       "    </tr>\n",
       "    <tr>\n",
       "      <th>2</th>\n",
       "      <td>293318</td>\n",
       "      <td>2020-09-28 22:45:23.572432+00:00</td>\n",
       "      <td>t</td>\n",
       "      <td>430.108180</td>\n",
       "      <td>90783515419343652</td>\n",
       "      <td>864691135502985397</td>\n",
       "      <td>1474</td>\n",
       "      <td>2023-04-05 22:36:19.477499+00:00</td>\n",
       "      <td>t</td>\n",
       "      <td>293318</td>\n",
       "      <td>9</td>\n",
       "      <td>4</td>\n",
       "      <td>8066</td>\n",
       "      <td>6</td>\n",
       "      <td>5.63758</td>\n",
       "      <td>8.915025</td>\n",
       "      <td>[189472, 119296, 26037]</td>\n",
       "      <td>[nan, nan, nan]</td>\n",
       "      <td>[nan, nan, nan]</td>\n",
       "    </tr>\n",
       "    <tr>\n",
       "      <th>3</th>\n",
       "      <td>332833</td>\n",
       "      <td>2020-09-28 22:44:41.864456+00:00</td>\n",
       "      <td>t</td>\n",
       "      <td>274.418729</td>\n",
       "      <td>93535317407139914</td>\n",
       "      <td>864691135387371905</td>\n",
       "      <td>7915</td>\n",
       "      <td>2023-04-05 22:39:15.451639+00:00</td>\n",
       "      <td>t</td>\n",
       "      <td>332833</td>\n",
       "      <td>6</td>\n",
       "      <td>7</td>\n",
       "      <td>6413</td>\n",
       "      <td>6</td>\n",
       "      <td>5.27806</td>\n",
       "      <td>7.808064</td>\n",
       "      <td>[209328, 174304, 20004]</td>\n",
       "      <td>[nan, nan, nan]</td>\n",
       "      <td>[nan, nan, nan]</td>\n",
       "    </tr>\n",
       "    <tr>\n",
       "      <th>4</th>\n",
       "      <td>295460</td>\n",
       "      <td>2020-09-28 22:41:24.368712+00:00</td>\n",
       "      <td>t</td>\n",
       "      <td>208.616653</td>\n",
       "      <td>90225718084406516</td>\n",
       "      <td>864691135661410544</td>\n",
       "      <td>11589</td>\n",
       "      <td>2023-04-05 22:39:47.420305+00:00</td>\n",
       "      <td>t</td>\n",
       "      <td>295460</td>\n",
       "      <td>9</td>\n",
       "      <td>3</td>\n",
       "      <td>7748</td>\n",
       "      <td>6</td>\n",
       "      <td>5.20837</td>\n",
       "      <td>2.999543</td>\n",
       "      <td>[185088, 157776, 15691]</td>\n",
       "      <td>[nan, nan, nan]</td>\n",
       "      <td>[nan, nan, nan]</td>\n",
       "    </tr>\n",
       "    <tr>\n",
       "      <th>...</th>\n",
       "      <td>...</td>\n",
       "      <td>...</td>\n",
       "      <td>...</td>\n",
       "      <td>...</td>\n",
       "      <td>...</td>\n",
       "      <td>...</td>\n",
       "      <td>...</td>\n",
       "      <td>...</td>\n",
       "      <td>...</td>\n",
       "      <td>...</td>\n",
       "      <td>...</td>\n",
       "      <td>...</td>\n",
       "      <td>...</td>\n",
       "      <td>...</td>\n",
       "      <td>...</td>\n",
       "      <td>...</td>\n",
       "      <td>...</td>\n",
       "      <td>...</td>\n",
       "      <td>...</td>\n",
       "    </tr>\n",
       "    <tr>\n",
       "      <th>13920</th>\n",
       "      <td>293075</td>\n",
       "      <td>2020-09-28 22:41:16.438872+00:00</td>\n",
       "      <td>t</td>\n",
       "      <td>287.333417</td>\n",
       "      <td>91487065153289270</td>\n",
       "      <td>864691136144304948</td>\n",
       "      <td>2323</td>\n",
       "      <td>2023-04-05 22:39:00.197594+00:00</td>\n",
       "      <td>t</td>\n",
       "      <td>293075</td>\n",
       "      <td>9</td>\n",
       "      <td>4</td>\n",
       "      <td>4693</td>\n",
       "      <td>4</td>\n",
       "      <td>3.21152</td>\n",
       "      <td>6.692787</td>\n",
       "      <td>[194528, 118128, 23566]</td>\n",
       "      <td>[nan, nan, nan]</td>\n",
       "      <td>[nan, nan, nan]</td>\n",
       "    </tr>\n",
       "    <tr>\n",
       "      <th>13921</th>\n",
       "      <td>293075</td>\n",
       "      <td>2020-09-28 22:41:16.438872+00:00</td>\n",
       "      <td>t</td>\n",
       "      <td>287.333417</td>\n",
       "      <td>91487065153289270</td>\n",
       "      <td>864691136144304948</td>\n",
       "      <td>10023</td>\n",
       "      <td>2023-04-05 22:39:40.658776+00:00</td>\n",
       "      <td>t</td>\n",
       "      <td>293075</td>\n",
       "      <td>9</td>\n",
       "      <td>4</td>\n",
       "      <td>7533</td>\n",
       "      <td>6</td>\n",
       "      <td>10.42720</td>\n",
       "      <td>-0.232141</td>\n",
       "      <td>[194528, 118128, 23566]</td>\n",
       "      <td>[nan, nan, nan]</td>\n",
       "      <td>[nan, nan, nan]</td>\n",
       "    </tr>\n",
       "    <tr>\n",
       "      <th>13922</th>\n",
       "      <td>395416</td>\n",
       "      <td>2020-09-28 22:44:46.280352+00:00</td>\n",
       "      <td>t</td>\n",
       "      <td>282.205061</td>\n",
       "      <td>97825062761246370</td>\n",
       "      <td>864691135394864117</td>\n",
       "      <td>2840</td>\n",
       "      <td>2023-04-05 22:39:00.636805+00:00</td>\n",
       "      <td>t</td>\n",
       "      <td>395416</td>\n",
       "      <td>9</td>\n",
       "      <td>3</td>\n",
       "      <td>2456</td>\n",
       "      <td>2</td>\n",
       "      <td>4.95407</td>\n",
       "      <td>3.168314</td>\n",
       "      <td>[240528, 154032, 25770]</td>\n",
       "      <td>[nan, nan, nan]</td>\n",
       "      <td>[nan, nan, nan]</td>\n",
       "    </tr>\n",
       "    <tr>\n",
       "      <th>13923</th>\n",
       "      <td>395416</td>\n",
       "      <td>2020-09-28 22:44:46.280352+00:00</td>\n",
       "      <td>t</td>\n",
       "      <td>282.205061</td>\n",
       "      <td>97825062761246370</td>\n",
       "      <td>864691135394864117</td>\n",
       "      <td>4554</td>\n",
       "      <td>2023-04-05 22:39:07.141941+00:00</td>\n",
       "      <td>t</td>\n",
       "      <td>395416</td>\n",
       "      <td>9</td>\n",
       "      <td>3</td>\n",
       "      <td>4759</td>\n",
       "      <td>4</td>\n",
       "      <td>6.51528</td>\n",
       "      <td>4.102491</td>\n",
       "      <td>[240528, 154032, 25770]</td>\n",
       "      <td>[nan, nan, nan]</td>\n",
       "      <td>[nan, nan, nan]</td>\n",
       "    </tr>\n",
       "    <tr>\n",
       "      <th>13924</th>\n",
       "      <td>485825</td>\n",
       "      <td>2020-09-28 22:41:48.027148+00:00</td>\n",
       "      <td>t</td>\n",
       "      <td>371.868795</td>\n",
       "      <td>105277895836000216</td>\n",
       "      <td>864691136966674894</td>\n",
       "      <td>11479</td>\n",
       "      <td>2023-04-05 22:39:47.331131+00:00</td>\n",
       "      <td>t</td>\n",
       "      <td>485825</td>\n",
       "      <td>5</td>\n",
       "      <td>6</td>\n",
       "      <td>1538</td>\n",
       "      <td>2</td>\n",
       "      <td>5.26231</td>\n",
       "      <td>9.976701</td>\n",
       "      <td>[294512, 107648, 23083]</td>\n",
       "      <td>[nan, nan, nan]</td>\n",
       "      <td>[nan, nan, nan]</td>\n",
       "    </tr>\n",
       "  </tbody>\n",
       "</table>\n",
       "<p>13925 rows × 19 columns</p>\n",
       "</div>"
      ]
     },
     "execution_count": 7,
     "metadata": {},
     "output_type": "execute_result"
    }
   ],
   "execution_count": 7
  },
  {
   "cell_type": "markdown",
   "metadata": {},
   "source": [
    "### Column descriptions:\n",
    "\n",
    "<b>id:</b> a unique identifier for this row\n",
    "\n",
    "<b>valid:</b> internal check, uniformly ‘t’\n",
    "\n",
    "<b>pt_supervoxel_id:</b> the ID of the supervoxel from the watershed segmentation that is under the pt_position\n",
    "\n",
    "<b>pt_root_id:</b> the ID of the segment/root_id under the pt_position from the Proofread Segmentation (v343).\n",
    "\n",
    "<b>session:</b> the ID indicating the imaging period for the mouse\n",
    "\n",
    "<b>scan_idx:</b> the index of the scan within the imaging session\n",
    "\n",
    "<b>unit_id:</b> the ID of the functional ROI (unique per scan)\n",
    "\n",
    "<b>pt_position_{x,y,z}:</b> the location in 4,4,40 nm voxels at a cell body for the cell\n",
    "\n",
    "<b>residual:</b> the Euclidean distance between the EM nucleus centroid and the matched functional centroid after the AIBS EM -> 2P coregistration transform\n",
    "\n",
    "<b>separation:</b> For a matched EM nucleus to a functional unit the separation score is computed as the difference between the residual of the matched pair and the residual of the nearest EM neuronal nucleus that was not matched to the unit.\n",
    "\n",
    "Note: More confident matches will have a smaller residual and larger separation"
   ]
  },
  {
   "cell_type": "markdown",
   "metadata": {},
   "source": [
    "### Select a random entry"
   ]
  },
  {
   "cell_type": "code",
   "metadata": {
    "ExecuteTime": {
     "end_time": "2024-11-09T07:33:48.227283Z",
     "start_time": "2024-11-09T07:33:48.186556Z"
    }
   },
   "source": [
    "entry = matched_df.sample(1)\n",
    "entry"
   ],
   "outputs": [
    {
     "data": {
      "text/plain": [
       "      id_ref                      created_ref valid_ref      volume  \\\n",
       "7827  422229 2020-09-28 22:45:11.713849+00:00         t  335.763374   \n",
       "\n",
       "       pt_supervoxel_id          pt_root_id     id  \\\n",
       "7827  99719314533490208  864691136595530402  12195   \n",
       "\n",
       "                              created valid  target_id  session  scan_idx  \\\n",
       "7827 2023-04-05 22:39:50.061422+00:00     t     422229        5         7   \n",
       "\n",
       "      unit_id  field  residual     score              pt_position  \\\n",
       "7827     1596      2   1.98892  5.901027  [254064, 111344, 21139]   \n",
       "\n",
       "     bb_start_position  bb_end_position  \n",
       "7827   [nan, nan, nan]  [nan, nan, nan]  "
      ],
      "text/html": [
       "<div>\n",
       "<style scoped>\n",
       "    .dataframe tbody tr th:only-of-type {\n",
       "        vertical-align: middle;\n",
       "    }\n",
       "\n",
       "    .dataframe tbody tr th {\n",
       "        vertical-align: top;\n",
       "    }\n",
       "\n",
       "    .dataframe thead th {\n",
       "        text-align: right;\n",
       "    }\n",
       "</style>\n",
       "<table border=\"1\" class=\"dataframe\">\n",
       "  <thead>\n",
       "    <tr style=\"text-align: right;\">\n",
       "      <th></th>\n",
       "      <th>id_ref</th>\n",
       "      <th>created_ref</th>\n",
       "      <th>valid_ref</th>\n",
       "      <th>volume</th>\n",
       "      <th>pt_supervoxel_id</th>\n",
       "      <th>pt_root_id</th>\n",
       "      <th>id</th>\n",
       "      <th>created</th>\n",
       "      <th>valid</th>\n",
       "      <th>target_id</th>\n",
       "      <th>session</th>\n",
       "      <th>scan_idx</th>\n",
       "      <th>unit_id</th>\n",
       "      <th>field</th>\n",
       "      <th>residual</th>\n",
       "      <th>score</th>\n",
       "      <th>pt_position</th>\n",
       "      <th>bb_start_position</th>\n",
       "      <th>bb_end_position</th>\n",
       "    </tr>\n",
       "  </thead>\n",
       "  <tbody>\n",
       "    <tr>\n",
       "      <th>7827</th>\n",
       "      <td>422229</td>\n",
       "      <td>2020-09-28 22:45:11.713849+00:00</td>\n",
       "      <td>t</td>\n",
       "      <td>335.763374</td>\n",
       "      <td>99719314533490208</td>\n",
       "      <td>864691136595530402</td>\n",
       "      <td>12195</td>\n",
       "      <td>2023-04-05 22:39:50.061422+00:00</td>\n",
       "      <td>t</td>\n",
       "      <td>422229</td>\n",
       "      <td>5</td>\n",
       "      <td>7</td>\n",
       "      <td>1596</td>\n",
       "      <td>2</td>\n",
       "      <td>1.98892</td>\n",
       "      <td>5.901027</td>\n",
       "      <td>[254064, 111344, 21139]</td>\n",
       "      <td>[nan, nan, nan]</td>\n",
       "      <td>[nan, nan, nan]</td>\n",
       "    </tr>\n",
       "  </tbody>\n",
       "</table>\n",
       "</div>"
      ]
     },
     "execution_count": 9,
     "metadata": {},
     "output_type": "execute_result"
    }
   ],
   "execution_count": 9
  },
  {
   "cell_type": "code",
   "metadata": {
    "ExecuteTime": {
     "end_time": "2024-11-09T07:33:51.710691Z",
     "start_time": "2024-11-09T07:33:51.703481Z"
    }
   },
   "source": [
    "segment = entry.pt_root_id.values[0] # get ID of segment to visualize\n",
    "centroid = entry.pt_position.values[0] # get centroid of segment"
   ],
   "outputs": [],
   "execution_count": 10
  },
  {
   "cell_type": "markdown",
   "metadata": {},
   "source": [
    "## View entry in Neuroglancer"
   ]
  },
  {
   "attachments": {},
   "cell_type": "markdown",
   "metadata": {},
   "source": [
    "Programmatic editing of Neuroglancer links can be accomplished using the Seung lab/ AIBS package [nglui](https://github.com/seung-lab/NeuroglancerAnnotationUI).\n",
    "\n",
    "[Example notebook](https://github.com/seung-lab/NeuroglancerAnnotationUI/blob/master/examples/statebuilder_examples.ipynb)"
   ]
  },
  {
   "cell_type": "code",
   "metadata": {
    "ExecuteTime": {
     "end_time": "2024-11-09T07:33:54.075989Z",
     "start_time": "2024-11-09T07:33:54.008470Z"
    }
   },
   "source": [
    "# generate links in Seung lab a custom Neuroglancer deployment called Neuromancer\n",
    "from nglui import statebuilder, EasyViewer \n",
    "\n",
    "viewer = EasyViewer()\n",
    "viewer.set_resolution((4,4,40))\n",
    "\n",
    "em_layer = statebuilder.ImageLayerConfig(client.info.image_source(), \n",
    "                                         contrast_controls=True, black=0.35, white=0.7) # set EM layer \n",
    "seg_layer =  statebuilder.SegmentationLayerConfig(client.info.segmentation_source(),  \n",
    "                                                  name='seg', fixed_ids=[segment]) # set dynamic segmentation layer\n",
    "view_kws = {'layout': '3d',\n",
    "            'zoom_3d': 3000,\n",
    "            'position': centroid}  # set zoom options and center on segment\n",
    "\n",
    "sb = statebuilder.StateBuilder([em_layer, seg_layer], view_kws=view_kws) # generate statebuilder\n",
    "sb.render_state(return_as='html', base_state=viewer.state) # render state as html link\n"
   ],
   "outputs": [
    {
     "data": {
      "text/plain": [
       "<IPython.core.display.HTML object>"
      ],
      "text/html": [
       "<a href=\"https://neuromancer-seung-import.appspot.com/#!%7B%22navigation%22:%7B%22pose%22:%7B%22position%22:%7B%22voxelSize%22:%5B4.0,4.0,40.0%5D,%22voxelCoordinates%22:%5B254064.0,111344.0,21139.0%5D%7D%7D,%22zoomFactor%22:2.0%7D,%22showSlices%22:false,%22layout%22:%223d%22,%22perspectiveZoom%22:3000.0,%22layers%22:%5B%7B%22type%22:%22image%22,%22source%22:%22precomputed://https://bossdb-open-data.s3.amazonaws.com/iarpa_microns/minnie/minnie65/em%22,%22name%22:%22img%22,%22shader%22:%22#uicontrol%20float%20black%20slider(min=0,%20max=1,%20default=0.35)%5Cn#uicontrol%20float%20white%20slider(min=0,%20max=1,%20default=0.7)%5Cnfloat%20rescale(float%20value)%20%7B%5Cn%20%20return%20(value%20-%20black)%20/%20(white%20-%20black);%5Cn%7D%5Cnvoid%20main()%20%7B%5Cn%20%20float%20val%20=%20toNormalized(getDataValue());%5Cn%20%20if%20(val%20%3C%20black)%20%7B%5Cn%20%20%20%20emitRGB(vec3(0,0,0));%5Cn%20%20%7D%20else%20if%20(val%20%3E%20white)%20%7B%5Cn%20%20%20%20emitRGB(vec3(1.0,%201.0,%201.0));%5Cn%20%20%7D%20else%20%7B%5Cn%20%20%20%20emitGrayscale(rescale(val));%5Cn%20%20%7D%5Cn%7D%5Cn%22%7D,%7B%22type%22:%22segmentation_with_graph%22,%22source%22:%22graphene://https://minnie.microns-daf.com/segmentation/table/minnie65_public%22,%22name%22:%22seg%22,%22segments%22:%5B%22864691136595530402%22%5D,%22segmentColors%22:%7B%7D,%22selectedAlpha%22:0.3,%22objectAlpha%22:1.0,%22notSelectedAlpha%22:0.0%7D%5D%7D\" target=\"_blank\">Neuroglancer Link</a>"
      ]
     },
     "execution_count": 11,
     "metadata": {},
     "output_type": "execute_result"
    }
   ],
   "execution_count": 11
  },
  {
   "cell_type": "markdown",
   "metadata": {},
   "source": [
    "# Access Functional data"
   ]
  },
  {
   "attachments": {},
   "cell_type": "markdown",
   "metadata": {},
   "source": [
    "This notebook assumes you have access to a copy of the SQL database that houses the functional data and the functional data schema repository. Instructions to download are [here](https://www.microns-explorer.org/cortical-mm3#f-data).\n",
    "\n",
    "The contents of the SQL schema are accessed programmatically using [DataJoint](https://datajoint.io/). Find an example notebook for using DataJoint to access the functional data [here](Using_DataJoint_to_Access_Functional_Data.ipynb)."
   ]
  },
  {
   "cell_type": "code",
   "metadata": {
    "ExecuteTime": {
     "end_time": "2024-11-09T07:44:10.842102Z",
     "start_time": "2024-11-09T07:44:08.346848Z"
    }
   },
   "source": [
    "from microns_phase3 import nda, utils\n",
    "import numpy as np\n",
    "import matplotlib.pyplot as plt"
   ],
   "outputs": [],
   "execution_count": 15
  },
  {
   "cell_type": "markdown",
   "metadata": {},
   "source": [
    "### Convert entry to DataJoint compatible key"
   ]
  },
  {
   "cell_type": "markdown",
   "metadata": {},
   "source": [
    "DataJoint tables can be restricted with dictionaries. Here we generate a dictionary of attributes that specify the unique functional ROI in the DataJoint schema. "
   ]
  },
  {
   "cell_type": "code",
   "metadata": {
    "ExecuteTime": {
     "end_time": "2024-11-09T07:44:25.575538Z",
     "start_time": "2024-11-09T07:44:25.567821Z"
    }
   },
   "source": [
    "unit_key = entry[['session', 'scan_idx', 'unit_id']].to_dict(orient='records')[0]\n",
    "unit_key"
   ],
   "outputs": [
    {
     "data": {
      "text/plain": [
       "{'session': 5, 'scan_idx': 7, 'unit_id': 1596}"
      ]
     },
     "execution_count": 16,
     "metadata": {},
     "output_type": "execute_result"
    }
   ],
   "execution_count": 16
  },
  {
   "cell_type": "markdown",
   "metadata": {},
   "source": [
    "### Fetch & plot activity trace, calcium trace, pupil radius, and treadmill"
   ]
  },
  {
   "cell_type": "markdown",
   "metadata": {},
   "source": [
    "Here we use the key to fetch and plot a variety of data from the schema, including the unit's calcium & spike traces, and the scan's pupil trace and treadmill speed. \n",
    "\n",
    "Note: The `nda.ManualPupil` and `nda.Treadmill` tables only contain the `session` and `scan_idx` attributes, but can still be retrieved with the `unit_key`. The `unit_id` attribute is ignored when restricting against these tables."
   ]
  },
  {
   "cell_type": "code",
   "metadata": {
    "ExecuteTime": {
     "end_time": "2024-11-09T07:44:31.384044Z",
     "start_time": "2024-11-09T07:44:29.186230Z"
    }
   },
   "source": [
    "nframes, fps = (nda.Scan & unit_key).fetch1('nframes', 'fps')  # fetch # frames and fps\n",
    "time_axis = np.arange(nframes)/ fps # create time axis (seconds)\n",
    "spike_trace = (nda.Activity & unit_key).fetch1('trace') # fetch spike trace\n",
    "calcium_trace = (nda.ScanUnit * nda.Fluorescence & unit_key).fetch1('trace') # fetch calcium fluorescence trace\n",
    "pupil_radius = (nda.ManualPupil & unit_key).fetch1('pupil_maj_r') # fetch manually segmented pupil trace \n",
    "treadmill = (nda.Treadmill & unit_key).fetch1('treadmill_velocity') # fetch treadmill speed"
   ],
   "outputs": [],
   "execution_count": 17
  },
  {
   "cell_type": "code",
   "metadata": {
    "ExecuteTime": {
     "end_time": "2024-11-09T07:44:35.487443Z",
     "start_time": "2024-11-09T07:44:34.796722Z"
    }
   },
   "source": [
    "fig, (ax1, ax2, ax3) = plt.subplots(3, 1, figsize=(15, 8), sharex=True)\n",
    "ax1.plot(time_axis, calcium_trace, color='g', alpha=0.3, label='calcium trace')\n",
    "ax1.plot(time_axis, spike_trace, color='k', label='spike trace')\n",
    "ax2.plot(time_axis, pupil_radius, color='k')\n",
    "ax3.plot(time_axis, treadmill, color='k')\n",
    "ax3.set_xlim(3000, 4000) \n",
    "ax1.set_ylabel('response magnitude')\n",
    "ax1.legend()\n",
    "ax2.set_ylabel('pupil radius')\n",
    "ax3.set_ylabel('treadmill speed')\n",
    "fig.suptitle(f'session: {unit_key[\"session\"]}, scan_idx: {unit_key[\"scan_idx\"]}, unit_id: {unit_key[\"unit_id\"]}', fontsize=22);\n",
    "[ax.spines['right'].set_visible(False) for ax in [ax1, ax2, ax3]];\n",
    "[ax.spines['top'].set_visible(False) for ax in [ax1, ax2, ax3]];"
   ],
   "outputs": [
    {
     "data": {
      "text/plain": [
       "<Figure size 1500x800 with 3 Axes>"
      ],
      "image/png": "[encoded data removed]"
     },
     "metadata": {},
     "output_type": "display_data"
    }
   ],
   "execution_count": 18
  },
  {
   "cell_type": "markdown",
   "metadata": {},
   "source": [
    "### Plot oracle raster"
   ]
  },
  {
   "cell_type": "markdown",
   "metadata": {},
   "source": [
    "Here we use a function provided in the `utils` module to retrieve the responses for the functional unit for the repeated stimulus trials (oracle trials). For a further description of the oracle see the technical documentation."
   ]
  },
  {
   "cell_type": "code",
   "metadata": {
    "ExecuteTime": {
     "end_time": "2024-11-09T07:44:49.667782Z",
     "start_time": "2024-11-09T07:44:47.025626Z"
    }
   },
   "source": [
    "oracle_traces, score = utils.fetch_oracle_raster(unit_key)"
   ],
   "outputs": [],
   "execution_count": 19
  },
  {
   "cell_type": "code",
   "metadata": {
    "ExecuteTime": {
     "end_time": "2024-11-09T07:44:52.378060Z",
     "start_time": "2024-11-09T07:44:51.958837Z"
    }
   },
   "source": [
    "fig,axes = plt.subplots(1,6, figsize=(6,1),dpi=300)\n",
    "for col,clip_trace in zip(axes,np.moveaxis(oracle_traces,1,0)):\n",
    "    col.imshow(clip_trace,cmap='binary', interpolation='nearest')\n",
    "    col.set_aspect('auto')\n",
    "    col.set_xticks([])\n",
    "    col.set_yticks([])\n",
    "axes[0].set_ylabel(f'oracle score: {score:.2f}', fontsize=5)\n",
    "fig.subplots_adjust(wspace=.05)\n",
    "[ax.set_title(f'oracle clip {i+1}', fontsize=6) for i, ax in enumerate(axes)];\n",
    "fig.suptitle(f'session: {unit_key[\"session\"]}, scan_idx: {unit_key[\"scan_idx\"]}, unit_id: {unit_key[\"unit_id\"]}', fontsize=7, y=1.2)"
   ],
   "outputs": [
    {
     "data": {
      "text/plain": [
       "Text(0.5, 1.2, 'session: 5, scan_idx: 7, unit_id: 1596')"
      ]
     },
     "execution_count": 20,
     "metadata": {},
     "output_type": "execute_result"
    },
    {
     "data": {
      "text/plain": [
       "<Figure size 1800x300 with 6 Axes>"
      ],
      "image/png": "[encoded data removed]"
     },
     "metadata": {},
     "output_type": "display_data"
    }
   ],
   "execution_count": 20
  }
 ],
 "metadata": {
  "kernelspec": {
   "display_name": "Python 3",
   "language": "python",
   "name": "python3"
  },
  "language_info": {
   "codemirror_mode": {
    "name": "ipython",
    "version": 3
   },
   "file_extension": ".py",
   "mimetype": "text/x-python",
   "name": "python",
   "nbconvert_exporter": "python",
   "pygments_lexer": "ipython3",
   "version": "3.9.17"
  }
 },
 "nbformat": 4,
 "nbformat_minor": 2
}
